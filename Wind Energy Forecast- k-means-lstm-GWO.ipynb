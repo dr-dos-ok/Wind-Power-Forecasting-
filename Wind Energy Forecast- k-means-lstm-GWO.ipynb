{
 "cells": [
  {
   "cell_type": "code",
   "execution_count": 1,
   "id": "03569c48",
   "metadata": {},
   "outputs": [],
   "source": [
    "import warnings\n",
    "warnings.filterwarnings(\"ignore\")"
   ]
  },
  {
   "cell_type": "markdown",
   "id": "0ab7c5fb",
   "metadata": {},
   "source": [
    "## Model"
   ]
  },
  {
   "cell_type": "code",
   "execution_count": 2,
   "id": "9ef01af7",
   "metadata": {},
   "outputs": [],
   "source": [
    "from pandas import DataFrame\n",
    "from pandas import Series\n",
    "from pandas import concat\n",
    "from pandas import read_csv\n",
    "from pandas import datetime\n",
    "from sklearn.metrics import mean_squared_error\n",
    "from sklearn.preprocessing import MinMaxScaler\n",
    "from keras.models import Sequential\n",
    "from keras.layers import Dense\n",
    "from keras.layers import LSTM\n",
    "from math import sqrt\n",
    "from matplotlib import pyplot\n",
    "import numpy as np\n",
    "import pandas as pd"
   ]
  },
  {
   "cell_type": "markdown",
   "id": "e80ad95c",
   "metadata": {},
   "source": [
    "## First Dataset"
   ]
  },
  {
   "cell_type": "code",
   "execution_count": 3,
   "id": "e6276d6f",
   "metadata": {},
   "outputs": [],
   "source": [
    "df1=pd.read_csv(\"C1.csv\")"
   ]
  },
  {
   "cell_type": "code",
   "execution_count": 4,
   "id": "ce20b03b",
   "metadata": {},
   "outputs": [
    {
     "data": {
      "text/html": [
       "<div>\n",
       "<style scoped>\n",
       "    .dataframe tbody tr th:only-of-type {\n",
       "        vertical-align: middle;\n",
       "    }\n",
       "\n",
       "    .dataframe tbody tr th {\n",
       "        vertical-align: top;\n",
       "    }\n",
       "\n",
       "    .dataframe thead th {\n",
       "        text-align: right;\n",
       "    }\n",
       "</style>\n",
       "<table border=\"1\" class=\"dataframe\">\n",
       "  <thead>\n",
       "    <tr style=\"text-align: right;\">\n",
       "      <th></th>\n",
       "      <th>mod</th>\n",
       "      <th>dir</th>\n",
       "      <th>temp</th>\n",
       "      <th>rh</th>\n",
       "      <th>mslp</th>\n",
       "      <th>Speed</th>\n",
       "      <th>Direction</th>\n",
       "      <th>Energy</th>\n",
       "    </tr>\n",
       "  </thead>\n",
       "  <tbody>\n",
       "    <tr>\n",
       "      <th>0</th>\n",
       "      <td>7.640845</td>\n",
       "      <td>284.283081</td>\n",
       "      <td>279.543488</td>\n",
       "      <td>0.872665</td>\n",
       "      <td>102356.031250</td>\n",
       "      <td>8.18</td>\n",
       "      <td>250.0</td>\n",
       "      <td>553.42</td>\n",
       "    </tr>\n",
       "    <tr>\n",
       "      <th>1</th>\n",
       "      <td>7.640845</td>\n",
       "      <td>284.283081</td>\n",
       "      <td>279.543488</td>\n",
       "      <td>0.872665</td>\n",
       "      <td>102356.031250</td>\n",
       "      <td>8.23</td>\n",
       "      <td>253.0</td>\n",
       "      <td>617.98</td>\n",
       "    </tr>\n",
       "    <tr>\n",
       "      <th>2</th>\n",
       "      <td>7.640845</td>\n",
       "      <td>284.283081</td>\n",
       "      <td>279.543488</td>\n",
       "      <td>0.872665</td>\n",
       "      <td>102356.031250</td>\n",
       "      <td>8.54</td>\n",
       "      <td>259.0</td>\n",
       "      <td>537.41</td>\n",
       "    </tr>\n",
       "    <tr>\n",
       "      <th>3</th>\n",
       "      <td>5.212380</td>\n",
       "      <td>277.633667</td>\n",
       "      <td>280.006012</td>\n",
       "      <td>0.797998</td>\n",
       "      <td>102423.726562</td>\n",
       "      <td>8.74</td>\n",
       "      <td>268.0</td>\n",
       "      <td>683.49</td>\n",
       "    </tr>\n",
       "    <tr>\n",
       "      <th>4</th>\n",
       "      <td>5.212380</td>\n",
       "      <td>277.633667</td>\n",
       "      <td>280.006012</td>\n",
       "      <td>0.797998</td>\n",
       "      <td>102423.726562</td>\n",
       "      <td>8.44</td>\n",
       "      <td>263.0</td>\n",
       "      <td>619.89</td>\n",
       "    </tr>\n",
       "    <tr>\n",
       "      <th>...</th>\n",
       "      <td>...</td>\n",
       "      <td>...</td>\n",
       "      <td>...</td>\n",
       "      <td>...</td>\n",
       "      <td>...</td>\n",
       "      <td>...</td>\n",
       "      <td>...</td>\n",
       "      <td>...</td>\n",
       "    </tr>\n",
       "    <tr>\n",
       "      <th>14137</th>\n",
       "      <td>0.662058</td>\n",
       "      <td>206.916153</td>\n",
       "      <td>277.691437</td>\n",
       "      <td>0.830402</td>\n",
       "      <td>102878.960938</td>\n",
       "      <td>5.04</td>\n",
       "      <td>217.0</td>\n",
       "      <td>0.00</td>\n",
       "    </tr>\n",
       "    <tr>\n",
       "      <th>14138</th>\n",
       "      <td>0.662058</td>\n",
       "      <td>206.916153</td>\n",
       "      <td>277.691437</td>\n",
       "      <td>0.830402</td>\n",
       "      <td>102878.960938</td>\n",
       "      <td>4.88</td>\n",
       "      <td>217.0</td>\n",
       "      <td>0.00</td>\n",
       "    </tr>\n",
       "    <tr>\n",
       "      <th>14139</th>\n",
       "      <td>0.662058</td>\n",
       "      <td>206.916153</td>\n",
       "      <td>277.691437</td>\n",
       "      <td>0.830402</td>\n",
       "      <td>102878.960938</td>\n",
       "      <td>4.86</td>\n",
       "      <td>216.0</td>\n",
       "      <td>0.00</td>\n",
       "    </tr>\n",
       "    <tr>\n",
       "      <th>14140</th>\n",
       "      <td>0.662058</td>\n",
       "      <td>206.916153</td>\n",
       "      <td>277.691437</td>\n",
       "      <td>0.830402</td>\n",
       "      <td>102878.960938</td>\n",
       "      <td>4.93</td>\n",
       "      <td>215.0</td>\n",
       "      <td>0.00</td>\n",
       "    </tr>\n",
       "    <tr>\n",
       "      <th>14141</th>\n",
       "      <td>0.662058</td>\n",
       "      <td>206.916153</td>\n",
       "      <td>277.691437</td>\n",
       "      <td>0.830402</td>\n",
       "      <td>102878.960938</td>\n",
       "      <td>4.87</td>\n",
       "      <td>207.0</td>\n",
       "      <td>0.00</td>\n",
       "    </tr>\n",
       "  </tbody>\n",
       "</table>\n",
       "<p>14142 rows × 8 columns</p>\n",
       "</div>"
      ],
      "text/plain": [
       "            mod         dir        temp        rh           mslp  Speed  \\\n",
       "0      7.640845  284.283081  279.543488  0.872665  102356.031250   8.18   \n",
       "1      7.640845  284.283081  279.543488  0.872665  102356.031250   8.23   \n",
       "2      7.640845  284.283081  279.543488  0.872665  102356.031250   8.54   \n",
       "3      5.212380  277.633667  280.006012  0.797998  102423.726562   8.74   \n",
       "4      5.212380  277.633667  280.006012  0.797998  102423.726562   8.44   \n",
       "...         ...         ...         ...       ...            ...    ...   \n",
       "14137  0.662058  206.916153  277.691437  0.830402  102878.960938   5.04   \n",
       "14138  0.662058  206.916153  277.691437  0.830402  102878.960938   4.88   \n",
       "14139  0.662058  206.916153  277.691437  0.830402  102878.960938   4.86   \n",
       "14140  0.662058  206.916153  277.691437  0.830402  102878.960938   4.93   \n",
       "14141  0.662058  206.916153  277.691437  0.830402  102878.960938   4.87   \n",
       "\n",
       "       Direction  Energy  \n",
       "0          250.0  553.42  \n",
       "1          253.0  617.98  \n",
       "2          259.0  537.41  \n",
       "3          268.0  683.49  \n",
       "4          263.0  619.89  \n",
       "...          ...     ...  \n",
       "14137      217.0    0.00  \n",
       "14138      217.0    0.00  \n",
       "14139      216.0    0.00  \n",
       "14140      215.0    0.00  \n",
       "14141      207.0    0.00  \n",
       "\n",
       "[14142 rows x 8 columns]"
      ]
     },
     "execution_count": 4,
     "metadata": {},
     "output_type": "execute_result"
    }
   ],
   "source": [
    "df1"
   ]
  },
  {
   "cell_type": "code",
   "execution_count": 5,
   "id": "c5c2e770",
   "metadata": {},
   "outputs": [],
   "source": [
    "X=df1.drop(columns=[\"Energy\"]).values"
   ]
  },
  {
   "cell_type": "code",
   "execution_count": 6,
   "id": "acc7babc",
   "metadata": {},
   "outputs": [
    {
     "data": {
      "text/plain": [
       "(14142, 7)"
      ]
     },
     "execution_count": 6,
     "metadata": {},
     "output_type": "execute_result"
    }
   ],
   "source": [
    "X.shape"
   ]
  },
  {
   "cell_type": "code",
   "execution_count": 7,
   "id": "17326f4c",
   "metadata": {},
   "outputs": [],
   "source": [
    "y=df1[\"Energy\"].values"
   ]
  },
  {
   "cell_type": "code",
   "execution_count": 8,
   "id": "09e639d4",
   "metadata": {},
   "outputs": [
    {
     "data": {
      "text/plain": [
       "(14142,)"
      ]
     },
     "execution_count": 8,
     "metadata": {},
     "output_type": "execute_result"
    }
   ],
   "source": [
    "y.shape"
   ]
  },
  {
   "cell_type": "code",
   "execution_count": 9,
   "id": "b859a8be",
   "metadata": {},
   "outputs": [
    {
     "name": "stdout",
     "output_type": "stream",
     "text": [
      "Number of records in training data :  13647\n",
      "Number of records in test data :  495\n",
      "Total distinct number of threat types in training data :  10284\n",
      "Total distinct number of threat types in test data :  400\n"
     ]
    }
   ],
   "source": [
    "from sklearn.model_selection import train_test_split\n",
    "X_train, X_test, y_train, y_test = train_test_split( X, y, test_size=0.035, random_state=42)\n",
    "print(\"Number of records in training data : \", X_train.shape[0])\n",
    "print(\"Number of records in test data : \", X_test.shape[0])\n",
    "print(\"Total distinct number of threat types in training data : \",len(set(y_train)))\n",
    "print(\"Total distinct number of threat types in test data : \",len(set(y_test)))"
   ]
  },
  {
   "cell_type": "code",
   "execution_count": 10,
   "id": "fb0bbc3d",
   "metadata": {},
   "outputs": [],
   "source": [
    "scalerX = MinMaxScaler(feature_range=(0, 1))\n",
    "rescaled_X_train = scalerX.fit_transform(X_train)\n",
    "rescaled_X_test = scalerX.fit_transform(X_test)"
   ]
  },
  {
   "cell_type": "code",
   "execution_count": 11,
   "id": "3aaf6a41",
   "metadata": {},
   "outputs": [],
   "source": [
    "scalery = MinMaxScaler(feature_range=(0, 1))\n",
    "rescaled_y_train = scalery.fit_transform(y_train.reshape(-1,1))\n",
    "rescaled_y_train=rescaled_y_train.T[0]\n",
    "rescaled_y_test = scalery.fit_transform(y_test.reshape(-1,1))\n",
    "rescaled_y_test=rescaled_y_test.T[0]"
   ]
  },
  {
   "cell_type": "code",
   "execution_count": 12,
   "id": "bc394061",
   "metadata": {},
   "outputs": [
    {
     "data": {
      "text/plain": [
       "(495,)"
      ]
     },
     "execution_count": 12,
     "metadata": {},
     "output_type": "execute_result"
    }
   ],
   "source": [
    "rescaled_y_test.shape"
   ]
  },
  {
   "cell_type": "code",
   "execution_count": 13,
   "id": "c48b4a10",
   "metadata": {},
   "outputs": [],
   "source": [
    "from model import get_lstm\n",
    "from GWO import GWO"
   ]
  },
  {
   "cell_type": "code",
   "execution_count": 14,
   "id": "48a9f6aa",
   "metadata": {},
   "outputs": [],
   "source": [
    "gwo = GWO(576, 0.4, 0.7, 0.9) \n",
    "lag = 12"
   ]
  },
  {
   "cell_type": "code",
   "execution_count": 15,
   "id": "332f2360",
   "metadata": {},
   "outputs": [],
   "source": [
    "config = {\"batch\": 1024, \"epochs\": 100}"
   ]
  },
  {
   "cell_type": "code",
   "execution_count": 16,
   "id": "37885196",
   "metadata": {},
   "outputs": [],
   "source": [
    "name= 'gwo-lstm'"
   ]
  },
  {
   "cell_type": "code",
   "execution_count": 17,
   "id": "85692d5c",
   "metadata": {},
   "outputs": [],
   "source": [
    "rescaled_X_train  = np.reshape(rescaled_X_train , (rescaled_X_train.shape[0], rescaled_X_train.shape[1], 1))\n",
    "m = get_lstm([7, 64, 64, 1])"
   ]
  },
  {
   "cell_type": "code",
   "execution_count": 18,
   "id": "3f95c55b",
   "metadata": {},
   "outputs": [
    {
     "name": "stdout",
     "output_type": "stream",
     "text": [
      "(13647, 7, 1) (13647,)\n",
      "1 13647\n",
      "Epoch 1/100\n",
      "13/13 [==============================] - 6s 113ms/step - loss: 0.0752 - mape: 59209652.0000 - val_loss: 0.0467 - val_mape: 33306192.0000\n",
      "Epoch 2/100\n",
      "13/13 [==============================] - 1s 70ms/step - loss: 0.0410 - mape: 33376348.0000 - val_loss: 0.0455 - val_mape: 34936268.0000\n",
      "Epoch 3/100\n",
      "13/13 [==============================] - 1s 67ms/step - loss: 0.0400 - mape: 33234042.0000 - val_loss: 0.0449 - val_mape: 31927298.0000\n",
      "Epoch 4/100\n",
      "13/13 [==============================] - 1s 68ms/step - loss: 0.0393 - mape: 32717270.0000 - val_loss: 0.0445 - val_mape: 29553024.0000\n",
      "Epoch 5/100\n",
      "13/13 [==============================] - 1s 68ms/step - loss: 0.0384 - mape: 32145074.0000 - val_loss: 0.0435 - val_mape: 28861978.0000\n",
      "Epoch 6/100\n",
      "13/13 [==============================] - 1s 68ms/step - loss: 0.0374 - mape: 31683850.0000 - val_loss: 0.0421 - val_mape: 39391668.0000\n",
      "Epoch 7/100\n",
      "13/13 [==============================] - 1s 68ms/step - loss: 0.0362 - mape: 31719690.0000 - val_loss: 0.0387 - val_mape: 31872820.0000\n",
      "Epoch 8/100\n",
      "13/13 [==============================] - 1s 69ms/step - loss: 0.0348 - mape: 30359656.0000 - val_loss: 0.0366 - val_mape: 27992456.0000\n",
      "Epoch 9/100\n",
      "13/13 [==============================] - 1s 80ms/step - loss: 0.0327 - mape: 28232208.0000 - val_loss: 0.0414 - val_mape: 16410011.0000\n",
      "Epoch 10/100\n",
      "13/13 [==============================] - 1s 109ms/step - loss: 0.0323 - mape: 26008238.0000 - val_loss: 0.0373 - val_mape: 18584746.0000\n",
      "Epoch 11/100\n",
      "13/13 [==============================] - 1s 68ms/step - loss: 0.0319 - mape: 24736656.0000 - val_loss: 0.0342 - val_mape: 21863378.0000\n",
      "Epoch 12/100\n",
      "13/13 [==============================] - 1s 70ms/step - loss: 0.0316 - mape: 24536116.0000 - val_loss: 0.0338 - val_mape: 21957186.0000\n",
      "Epoch 13/100\n",
      "13/13 [==============================] - 1s 69ms/step - loss: 0.0311 - mape: 24336594.0000 - val_loss: 0.0347 - val_mape: 19022442.0000\n",
      "Epoch 14/100\n",
      "13/13 [==============================] - 1s 113ms/step - loss: 0.0311 - mape: 23870580.0000 - val_loss: 0.0326 - val_mape: 22755612.0000\n",
      "Epoch 15/100\n",
      "13/13 [==============================] - 1s 76ms/step - loss: 0.0307 - mape: 23945408.0000 - val_loss: 0.0346 - val_mape: 18112892.0000\n",
      "Epoch 16/100\n",
      "13/13 [==============================] - 1s 78ms/step - loss: 0.0305 - mape: 23380760.0000 - val_loss: 0.0332 - val_mape: 19448224.0000\n",
      "Epoch 17/100\n",
      "13/13 [==============================] - 1s 81ms/step - loss: 0.0298 - mape: 23318042.0000 - val_loss: 0.0331 - val_mape: 18246594.0000\n",
      "Epoch 18/100\n",
      "13/13 [==============================] - 1s 82ms/step - loss: 0.0302 - mape: 22987136.0000 - val_loss: 0.0315 - val_mape: 25964774.0000\n",
      "Epoch 19/100\n",
      "13/13 [==============================] - 1s 83ms/step - loss: 0.0294 - mape: 22945096.0000 - val_loss: 0.0306 - val_mape: 24001874.0000\n",
      "Epoch 20/100\n",
      "13/13 [==============================] - 1s 82ms/step - loss: 0.0289 - mape: 22628048.0000 - val_loss: 0.0362 - val_mape: 14096543.0000\n",
      "Epoch 21/100\n",
      "13/13 [==============================] - 1s 81ms/step - loss: 0.0291 - mape: 21460950.0000 - val_loss: 0.0308 - val_mape: 25736914.0000\n",
      "Epoch 22/100\n",
      "13/13 [==============================] - 1s 82ms/step - loss: 0.0285 - mape: 21640630.0000 - val_loss: 0.0295 - val_mape: 23285554.0000\n",
      "Epoch 23/100\n",
      "13/13 [==============================] - 1s 83ms/step - loss: 0.0282 - mape: 21593122.0000 - val_loss: 0.0303 - val_mape: 17166780.0000\n",
      "Epoch 24/100\n",
      "13/13 [==============================] - 1s 85ms/step - loss: 0.0276 - mape: 20728638.0000 - val_loss: 0.0283 - val_mape: 20691300.0000\n",
      "Epoch 25/100\n",
      "13/13 [==============================] - 1s 82ms/step - loss: 0.0271 - mape: 20476030.0000 - val_loss: 0.0278 - val_mape: 17625288.0000\n",
      "Epoch 26/100\n",
      "13/13 [==============================] - 1s 81ms/step - loss: 0.0274 - mape: 19795254.0000 - val_loss: 0.0327 - val_mape: 13262941.0000\n",
      "Epoch 27/100\n",
      "13/13 [==============================] - 1s 83ms/step - loss: 0.0273 - mape: 19389526.0000 - val_loss: 0.0273 - val_mape: 17920006.0000\n",
      "Epoch 28/100\n",
      "13/13 [==============================] - 1s 83ms/step - loss: 0.0266 - mape: 19125006.0000 - val_loss: 0.0285 - val_mape: 14850583.0000\n",
      "Epoch 29/100\n",
      "13/13 [==============================] - 1s 81ms/step - loss: 0.0261 - mape: 18582150.0000 - val_loss: 0.0264 - val_mape: 18850790.0000\n",
      "Epoch 30/100\n",
      "13/13 [==============================] - 1s 81ms/step - loss: 0.0257 - mape: 18395088.0000 - val_loss: 0.0377 - val_mape: 9541582.0000\n",
      "Epoch 31/100\n",
      "13/13 [==============================] - 1s 90ms/step - loss: 0.0262 - mape: 16979570.0000 - val_loss: 0.0269 - val_mape: 20436454.0000\n",
      "Epoch 32/100\n",
      "13/13 [==============================] - 1s 85ms/step - loss: 0.0245 - mape: 17992456.0000 - val_loss: 0.0343 - val_mape: 9595870.0000\n",
      "Epoch 33/100\n",
      "13/13 [==============================] - 1s 82ms/step - loss: 0.0255 - mape: 16570156.0000 - val_loss: 0.0266 - val_mape: 13185963.0000\n",
      "Epoch 34/100\n",
      "13/13 [==============================] - 1s 81ms/step - loss: 0.0246 - mape: 16782138.0000 - val_loss: 0.0249 - val_mape: 16907176.0000\n",
      "Epoch 35/100\n",
      "13/13 [==============================] - 1s 81ms/step - loss: 0.0247 - mape: 16490466.0000 - val_loss: 0.0248 - val_mape: 13975753.0000\n",
      "Epoch 36/100\n",
      "13/13 [==============================] - 1s 80ms/step - loss: 0.0241 - mape: 15846092.0000 - val_loss: 0.0249 - val_mape: 13020823.0000\n",
      "Epoch 37/100\n",
      "13/13 [==============================] - 1s 81ms/step - loss: 0.0242 - mape: 15649823.0000 - val_loss: 0.0240 - val_mape: 16332286.0000\n",
      "Epoch 38/100\n",
      "13/13 [==============================] - 1s 82ms/step - loss: 0.0239 - mape: 16008434.0000 - val_loss: 0.0257 - val_mape: 11609122.0000\n",
      "Epoch 39/100\n",
      "13/13 [==============================] - 1s 81ms/step - loss: 0.0236 - mape: 15433891.0000 - val_loss: 0.0231 - val_mape: 14912310.0000\n",
      "Epoch 40/100\n",
      "13/13 [==============================] - 1s 82ms/step - loss: 0.0229 - mape: 15411055.0000 - val_loss: 0.0308 - val_mape: 9275859.0000\n",
      "Epoch 41/100\n",
      "13/13 [==============================] - 1s 82ms/step - loss: 0.0239 - mape: 14893994.0000 - val_loss: 0.0232 - val_mape: 15542872.0000\n",
      "Epoch 42/100\n",
      "13/13 [==============================] - 1s 81ms/step - loss: 0.0229 - mape: 15096518.0000 - val_loss: 0.0239 - val_mape: 11804362.0000\n",
      "Epoch 43/100\n",
      "13/13 [==============================] - 1s 81ms/step - loss: 0.0223 - mape: 14703118.0000 - val_loss: 0.0221 - val_mape: 12143662.0000\n",
      "Epoch 44/100\n",
      "13/13 [==============================] - 1s 81ms/step - loss: 0.0232 - mape: 14557056.0000 - val_loss: 0.0247 - val_mape: 10541450.0000\n",
      "Epoch 45/100\n",
      "13/13 [==============================] - 1s 80ms/step - loss: 0.0227 - mape: 14495094.0000 - val_loss: 0.0219 - val_mape: 12204752.0000\n",
      "Epoch 46/100\n",
      "13/13 [==============================] - 1s 81ms/step - loss: 0.0228 - mape: 14373775.0000 - val_loss: 0.0217 - val_mape: 13634382.0000\n",
      "Epoch 47/100\n",
      "13/13 [==============================] - 1s 82ms/step - loss: 0.0219 - mape: 14598663.0000 - val_loss: 0.0355 - val_mape: 8411594.0000\n",
      "Epoch 48/100\n",
      "13/13 [==============================] - 1s 82ms/step - loss: 0.0227 - mape: 14020969.0000 - val_loss: 0.0224 - val_mape: 14883464.0000\n",
      "Epoch 49/100\n",
      "13/13 [==============================] - 1s 81ms/step - loss: 0.0218 - mape: 14331607.0000 - val_loss: 0.0235 - val_mape: 11269843.0000\n",
      "Epoch 50/100\n",
      "13/13 [==============================] - 1s 81ms/step - loss: 0.0216 - mape: 14108930.0000 - val_loss: 0.0222 - val_mape: 14098813.0000\n",
      "Epoch 51/100\n",
      "13/13 [==============================] - 1s 81ms/step - loss: 0.0216 - mape: 14149842.0000 - val_loss: 0.0218 - val_mape: 11200956.0000\n",
      "Epoch 52/100\n",
      "13/13 [==============================] - 1s 82ms/step - loss: 0.0221 - mape: 13895197.0000 - val_loss: 0.0211 - val_mape: 13370139.0000\n",
      "Epoch 53/100\n",
      "13/13 [==============================] - 1s 82ms/step - loss: 0.0212 - mape: 14252847.0000 - val_loss: 0.0222 - val_mape: 11131330.0000\n",
      "Epoch 54/100\n",
      "13/13 [==============================] - 1s 81ms/step - loss: 0.0213 - mape: 13715886.0000 - val_loss: 0.0215 - val_mape: 14156969.0000\n",
      "Epoch 55/100\n",
      "13/13 [==============================] - 1s 83ms/step - loss: 0.0211 - mape: 14218686.0000 - val_loss: 0.0299 - val_mape: 9467012.0000\n"
     ]
    },
    {
     "name": "stdout",
     "output_type": "stream",
     "text": [
      "Epoch 56/100\n",
      "13/13 [==============================] - 1s 81ms/step - loss: 0.0210 - mape: 13990575.0000 - val_loss: 0.0219 - val_mape: 10315817.0000\n",
      "Epoch 57/100\n",
      "13/13 [==============================] - 1s 80ms/step - loss: 0.0214 - mape: 13523122.0000 - val_loss: 0.0234 - val_mape: 14494381.0000\n",
      "Epoch 58/100\n",
      "13/13 [==============================] - 1s 83ms/step - loss: 0.0210 - mape: 13970511.0000 - val_loss: 0.0285 - val_mape: 9326828.0000\n",
      "Epoch 59/100\n",
      "13/13 [==============================] - 1s 80ms/step - loss: 0.0203 - mape: 13284530.0000 - val_loss: 0.0275 - val_mape: 15308098.0000\n",
      "Epoch 60/100\n",
      "13/13 [==============================] - 1s 86ms/step - loss: 0.0212 - mape: 13626568.0000 - val_loss: 0.0227 - val_mape: 14443640.0000\n",
      "Epoch 61/100\n",
      "13/13 [==============================] - 1s 83ms/step - loss: 0.0208 - mape: 13528201.0000 - val_loss: 0.0216 - val_mape: 14175508.0000\n",
      "Epoch 62/100\n",
      "13/13 [==============================] - 1s 82ms/step - loss: 0.0203 - mape: 13598819.0000 - val_loss: 0.0302 - val_mape: 9311863.0000\n",
      "Epoch 63/100\n",
      "13/13 [==============================] - 1s 80ms/step - loss: 0.0203 - mape: 13246554.0000 - val_loss: 0.0220 - val_mape: 13803760.0000\n",
      "Epoch 64/100\n",
      "13/13 [==============================] - 1s 82ms/step - loss: 0.0202 - mape: 13490803.0000 - val_loss: 0.0256 - val_mape: 9783163.0000\n",
      "Epoch 65/100\n",
      "13/13 [==============================] - 1s 82ms/step - loss: 0.0195 - mape: 13117722.0000 - val_loss: 0.0385 - val_mape: 7666929.5000\n",
      "Epoch 66/100\n",
      "13/13 [==============================] - 1s 81ms/step - loss: 0.0206 - mape: 12812390.0000 - val_loss: 0.0208 - val_mape: 13336032.0000\n",
      "Epoch 67/100\n",
      "13/13 [==============================] - 1s 84ms/step - loss: 0.0197 - mape: 13119185.0000 - val_loss: 0.0220 - val_mape: 9797196.0000\n",
      "Epoch 68/100\n",
      "13/13 [==============================] - 1s 89ms/step - loss: 0.0198 - mape: 12661758.0000 - val_loss: 0.0222 - val_mape: 13745297.0000\n",
      "Epoch 69/100\n",
      "13/13 [==============================] - 1s 88ms/step - loss: 0.0191 - mape: 13048173.0000 - val_loss: 0.0199 - val_mape: 9932185.0000\n",
      "Epoch 70/100\n",
      "13/13 [==============================] - 1s 86ms/step - loss: 0.0208 - mape: 12887799.0000 - val_loss: 0.0193 - val_mape: 11655074.0000\n",
      "Epoch 71/100\n",
      "13/13 [==============================] - 1s 84ms/step - loss: 0.0195 - mape: 12784127.0000 - val_loss: 0.0209 - val_mape: 10313813.0000\n",
      "Epoch 72/100\n",
      "13/13 [==============================] - 1s 84ms/step - loss: 0.0192 - mape: 12599579.0000 - val_loss: 0.0286 - val_mape: 8621039.0000\n",
      "Epoch 73/100\n",
      "13/13 [==============================] - 1s 85ms/step - loss: 0.0195 - mape: 12647073.0000 - val_loss: 0.0228 - val_mape: 13295492.0000\n",
      "Epoch 74/100\n",
      "13/13 [==============================] - 1s 86ms/step - loss: 0.0199 - mape: 13002879.0000 - val_loss: 0.0195 - val_mape: 11396405.0000\n",
      "Epoch 75/100\n",
      "13/13 [==============================] - 1s 86ms/step - loss: 0.0193 - mape: 12708176.0000 - val_loss: 0.0190 - val_mape: 11953078.0000\n",
      "Epoch 76/100\n",
      "13/13 [==============================] - 1s 84ms/step - loss: 0.0191 - mape: 12629691.0000 - val_loss: 0.0211 - val_mape: 10021485.0000\n",
      "Epoch 77/100\n",
      "13/13 [==============================] - 1s 90ms/step - loss: 0.0193 - mape: 12624894.0000 - val_loss: 0.0207 - val_mape: 12290277.0000\n",
      "Epoch 78/100\n",
      "13/13 [==============================] - 1s 98ms/step - loss: 0.0192 - mape: 12269120.0000 - val_loss: 0.0216 - val_mape: 10039534.0000\n",
      "Epoch 79/100\n",
      "13/13 [==============================] - 1s 110ms/step - loss: 0.0192 - mape: 12655928.0000 - val_loss: 0.0187 - val_mape: 11553371.0000\n",
      "Epoch 80/100\n",
      "13/13 [==============================] - 1s 88ms/step - loss: 0.0181 - mape: 12341084.0000 - val_loss: 0.0207 - val_mape: 9481033.0000\n",
      "Epoch 81/100\n",
      "13/13 [==============================] - 1s 83ms/step - loss: 0.0193 - mape: 12392305.0000 - val_loss: 0.0185 - val_mape: 11297740.0000\n",
      "Epoch 82/100\n",
      "13/13 [==============================] - 1s 81ms/step - loss: 0.0192 - mape: 12522742.0000 - val_loss: 0.0186 - val_mape: 10870898.0000\n",
      "Epoch 83/100\n",
      "13/13 [==============================] - 1s 82ms/step - loss: 0.0184 - mape: 12392317.0000 - val_loss: 0.0185 - val_mape: 11253574.0000\n",
      "Epoch 84/100\n",
      "13/13 [==============================] - 1s 79ms/step - loss: 0.0186 - mape: 12220376.0000 - val_loss: 0.0195 - val_mape: 9395031.0000\n",
      "Epoch 85/100\n",
      "13/13 [==============================] - 1s 78ms/step - loss: 0.0184 - mape: 11997678.0000 - val_loss: 0.0207 - val_mape: 11858380.0000\n",
      "Epoch 86/100\n",
      "13/13 [==============================] - 1s 80ms/step - loss: 0.0188 - mape: 12233639.0000 - val_loss: 0.0199 - val_mape: 9380563.0000\n",
      "Epoch 87/100\n",
      "13/13 [==============================] - 1s 78ms/step - loss: 0.0186 - mape: 12045311.0000 - val_loss: 0.0180 - val_mape: 10346495.0000\n",
      "Epoch 88/100\n",
      "13/13 [==============================] - 1s 86ms/step - loss: 0.0189 - mape: 12121640.0000 - val_loss: 0.0181 - val_mape: 11562806.0000\n",
      "Epoch 89/100\n",
      "13/13 [==============================] - 1s 83ms/step - loss: 0.0176 - mape: 11992715.0000 - val_loss: 0.0234 - val_mape: 8675685.0000\n",
      "Epoch 90/100\n",
      "13/13 [==============================] - 1s 78ms/step - loss: 0.0185 - mape: 12004103.0000 - val_loss: 0.0183 - val_mape: 11630877.0000\n",
      "Epoch 91/100\n",
      "13/13 [==============================] - 1s 78ms/step - loss: 0.0178 - mape: 12174743.0000 - val_loss: 0.0211 - val_mape: 8741952.0000\n",
      "Epoch 92/100\n",
      "13/13 [==============================] - 1s 81ms/step - loss: 0.0184 - mape: 11818957.0000 - val_loss: 0.0175 - val_mape: 10475730.0000\n",
      "Epoch 93/100\n",
      "13/13 [==============================] - 1s 79ms/step - loss: 0.0181 - mape: 11846654.0000 - val_loss: 0.0218 - val_mape: 8977962.0000\n",
      "Epoch 94/100\n",
      "13/13 [==============================] - 1s 79ms/step - loss: 0.0176 - mape: 11639171.0000 - val_loss: 0.0193 - val_mape: 9321539.0000\n",
      "Epoch 95/100\n",
      "13/13 [==============================] - 1s 79ms/step - loss: 0.0179 - mape: 11774724.0000 - val_loss: 0.0173 - val_mape: 10221871.0000\n",
      "Epoch 96/100\n",
      "13/13 [==============================] - 1s 79ms/step - loss: 0.0180 - mape: 11723772.0000 - val_loss: 0.0184 - val_mape: 9832252.0000\n",
      "Epoch 97/100\n",
      "13/13 [==============================] - 1s 79ms/step - loss: 0.0173 - mape: 11683718.0000 - val_loss: 0.0172 - val_mape: 9743033.0000\n",
      "Epoch 98/100\n",
      "13/13 [==============================] - 1s 79ms/step - loss: 0.0176 - mape: 11688748.0000 - val_loss: 0.0177 - val_mape: 10897799.0000\n",
      "Epoch 99/100\n",
      "13/13 [==============================] - 1s 78ms/step - loss: 0.0172 - mape: 11669234.0000 - val_loss: 0.0257 - val_mape: 7930357.0000\n",
      "Epoch 100/100\n",
      "13/13 [==============================] - 1s 79ms/step - loss: 0.0179 - mape: 11604365.0000 - val_loss: 0.0169 - val_mape: 9942557.0000\n"
     ]
    }
   ],
   "source": [
    "gwo.train_model(m, rescaled_X_train, rescaled_y_train, name, config)"
   ]
  },
  {
   "cell_type": "code",
   "execution_count": 19,
   "id": "893df9ed",
   "metadata": {},
   "outputs": [],
   "source": [
    "from keras.models import load_model\n",
    "from keras.utils.vis_utils import plot_model\n",
    "import sklearn.metrics as metrics\n",
    "import matplotlib as mpl"
   ]
  },
  {
   "cell_type": "code",
   "execution_count": 20,
   "id": "625a9e37",
   "metadata": {},
   "outputs": [],
   "source": [
    "gwo_lstm = load_model('model/gwo-lstm.h5')"
   ]
  },
  {
   "cell_type": "code",
   "execution_count": 21,
   "id": "5656b2d8",
   "metadata": {},
   "outputs": [
    {
     "data": {
      "image/png": "[encoded data removed]",
      "text/plain": [
       "<IPython.core.display.Image object>"
      ]
     },
     "execution_count": 21,
     "metadata": {},
     "output_type": "execute_result"
    }
   ],
   "source": [
    "file = 'model/' + name + '.png'\n",
    "plot_model(gwo_lstm, to_file = file, show_shapes = True)"
   ]
  },
  {
   "cell_type": "code",
   "execution_count": 22,
   "id": "73d7bde7",
   "metadata": {},
   "outputs": [],
   "source": [
    "y_preds = []"
   ]
  },
  {
   "cell_type": "code",
   "execution_count": 23,
   "id": "fb9e443f",
   "metadata": {},
   "outputs": [],
   "source": [
    "rescaled_X_test = np.reshape(rescaled_X_test , (rescaled_X_test.shape[0], rescaled_X_test.shape[1], 1))"
   ]
  },
  {
   "cell_type": "code",
   "execution_count": 24,
   "id": "a3f716c3",
   "metadata": {},
   "outputs": [
    {
     "name": "stdout",
     "output_type": "stream",
     "text": [
      "16/16 [==============================] - 0s 3ms/step\n"
     ]
    }
   ],
   "source": [
    "predicted = gwo_lstm.predict(rescaled_X_test)"
   ]
  },
  {
   "cell_type": "code",
   "execution_count": 25,
   "id": "11c80080",
   "metadata": {},
   "outputs": [],
   "source": [
    "predicted = scalery.inverse_transform(predicted.reshape(-1, 1)).reshape(1, -1)[0]"
   ]
  },
  {
   "cell_type": "code",
   "execution_count": 26,
   "id": "8702f26d",
   "metadata": {},
   "outputs": [],
   "source": [
    "for i in range(len(predicted)):\n",
    "\tgwo.update(i)\n",
    "\n",
    "\tpredicted[i] = predicted[i] + gwo.fix(y_test[i], predicted[i], layer = 2)"
   ]
  },
  {
   "cell_type": "code",
   "execution_count": 27,
   "id": "bca442d5",
   "metadata": {},
   "outputs": [],
   "source": [
    "y_preds.append(predicted)"
   ]
  },
  {
   "cell_type": "code",
   "execution_count": 28,
   "id": "0e7f353b",
   "metadata": {},
   "outputs": [],
   "source": [
    "predicted= predicted.T"
   ]
  },
  {
   "cell_type": "markdown",
   "id": "68420141",
   "metadata": {},
   "source": [
    "## Evaluation"
   ]
  },
  {
   "cell_type": "code",
   "execution_count": 29,
   "id": "d7371da3",
   "metadata": {},
   "outputs": [],
   "source": [
    "actual = pd.DataFrame(y_test, columns=[\"actual\"])"
   ]
  },
  {
   "cell_type": "code",
   "execution_count": 30,
   "id": "6dd7710d",
   "metadata": {},
   "outputs": [],
   "source": [
    "predicted= pd.DataFrame(predicted, columns=[\"predict\"])"
   ]
  },
  {
   "cell_type": "code",
   "execution_count": 31,
   "id": "9a84b9c0",
   "metadata": {},
   "outputs": [
    {
     "data": {
      "image/png": "[encoded data removed]",
      "text/plain": [
       "<Figure size 432x288 with 1 Axes>"
      ]
     },
     "metadata": {
      "needs_background": "light"
     },
     "output_type": "display_data"
    }
   ],
   "source": [
    "from matplotlib import pyplot\n",
    "# plot expected vs actual\n",
    "pyplot.plot(actual, label='Actual')\n",
    "pyplot.plot(predicted, label='Predicted')\n",
    "pyplot.legend()\n",
    "pyplot.show()"
   ]
  },
  {
   "cell_type": "code",
   "execution_count": 32,
   "id": "5325022e",
   "metadata": {},
   "outputs": [
    {
     "data": {
      "image/png": "[encoded data removed]",
      "text/plain": [
       "<Figure size 432x288 with 1 Axes>"
      ]
     },
     "metadata": {
      "needs_background": "light"
     },
     "output_type": "display_data"
    }
   ],
   "source": [
    "pyplot.plot(y_test[:100], label='Actual')\n",
    "pyplot.plot(predicted[:100], label='Predicted')\n",
    "pyplot.legend()\n",
    "pyplot.show()"
   ]
  },
  {
   "cell_type": "code",
   "execution_count": 33,
   "id": "412dfb96",
   "metadata": {
    "scrolled": true
   },
   "outputs": [
    {
     "data": {
      "image/png": "[encoded data removed]",
      "text/plain": [
       "<Figure size 432x288 with 1 Axes>"
      ]
     },
     "metadata": {
      "needs_background": "light"
     },
     "output_type": "display_data"
    }
   ],
   "source": [
    "pyplot.plot(y_test[:20], label='Actual')\n",
    "pyplot.plot(predicted[:20], label='Predicted')\n",
    "pyplot.legend()\n",
    "pyplot.show()"
   ]
  },
  {
   "cell_type": "code",
   "execution_count": 34,
   "id": "92ae7840",
   "metadata": {},
   "outputs": [
    {
     "data": {
      "text/plain": [
       "0.9727900569100554"
      ]
     },
     "execution_count": 34,
     "metadata": {},
     "output_type": "execute_result"
    }
   ],
   "source": [
    "metrics.r2_score(y_test, predicted)"
   ]
  },
  {
   "cell_type": "code",
   "execution_count": 35,
   "id": "e0c64021",
   "metadata": {},
   "outputs": [
    {
     "data": {
      "text/plain": [
       "64.37996572482946"
      ]
     },
     "execution_count": 35,
     "metadata": {},
     "output_type": "execute_result"
    }
   ],
   "source": [
    "metrics.mean_absolute_error(y_test, predicted)"
   ]
  }
 ],
 "metadata": {
  "kernelspec": {
   "display_name": "Python 3",
   "language": "python",
   "name": "python3"
  },
  "language_info": {
   "codemirror_mode": {
    "name": "ipython",
    "version": 3
   },
   "file_extension": ".py",
   "mimetype": "text/x-python",
   "name": "python",
   "nbconvert_exporter": "python",
   "pygments_lexer": "ipython3",
   "version": "3.8.8"
  }
 },
 "nbformat": 4,
 "nbformat_minor": 5
}
